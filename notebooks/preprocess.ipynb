{
 "cells": [
  {
   "cell_type": "code",
   "execution_count": 1,
   "metadata": {},
   "outputs": [],
   "source": [
    "import pandas as pd\n",
    "import os"
   ]
  },
  {
   "attachments": {},
   "cell_type": "markdown",
   "metadata": {},
   "source": [
    "**Import CSV and merge data**"
   ]
  },
  {
   "cell_type": "code",
   "execution_count": 15,
   "metadata": {},
   "outputs": [
    {
     "data": {
      "text/html": [
       "<div>\n",
       "<style scoped>\n",
       "    .dataframe tbody tr th:only-of-type {\n",
       "        vertical-align: middle;\n",
       "    }\n",
       "\n",
       "    .dataframe tbody tr th {\n",
       "        vertical-align: top;\n",
       "    }\n",
       "\n",
       "    .dataframe thead th {\n",
       "        text-align: right;\n",
       "    }\n",
       "</style>\n",
       "<table border=\"1\" class=\"dataframe\">\n",
       "  <thead>\n",
       "    <tr style=\"text-align: right;\">\n",
       "      <th></th>\n",
       "      <th>id</th>\n",
       "      <th>city</th>\n",
       "      <th>room_price</th>\n",
       "      <th>host_is_superhost</th>\n",
       "      <th>bedrooms</th>\n",
       "      <th>satisfaction</th>\n",
       "    </tr>\n",
       "  </thead>\n",
       "  <tbody>\n",
       "    <tr>\n",
       "      <th>0</th>\n",
       "      <td>0</td>\n",
       "      <td>barcelona</td>\n",
       "      <td>532.036214</td>\n",
       "      <td>False</td>\n",
       "      <td>1</td>\n",
       "      <td>91.0</td>\n",
       "    </tr>\n",
       "    <tr>\n",
       "      <th>1</th>\n",
       "      <td>1</td>\n",
       "      <td>barcelona</td>\n",
       "      <td>169.897829</td>\n",
       "      <td>True</td>\n",
       "      <td>1</td>\n",
       "      <td>88.0</td>\n",
       "    </tr>\n",
       "    <tr>\n",
       "      <th>2</th>\n",
       "      <td>2</td>\n",
       "      <td>barcelona</td>\n",
       "      <td>196.895292</td>\n",
       "      <td>False</td>\n",
       "      <td>1</td>\n",
       "      <td>90.0</td>\n",
       "    </tr>\n",
       "    <tr>\n",
       "      <th>3</th>\n",
       "      <td>3</td>\n",
       "      <td>barcelona</td>\n",
       "      <td>141.271208</td>\n",
       "      <td>False</td>\n",
       "      <td>1</td>\n",
       "      <td>86.0</td>\n",
       "    </tr>\n",
       "    <tr>\n",
       "      <th>4</th>\n",
       "      <td>4</td>\n",
       "      <td>barcelona</td>\n",
       "      <td>715.200037</td>\n",
       "      <td>True</td>\n",
       "      <td>2</td>\n",
       "      <td>95.0</td>\n",
       "    </tr>\n",
       "  </tbody>\n",
       "</table>\n",
       "</div>"
      ],
      "text/plain": [
       "   id       city  room_price  host_is_superhost  bedrooms  satisfaction\n",
       "0   0  barcelona  532.036214              False         1          91.0\n",
       "1   1  barcelona  169.897829               True         1          88.0\n",
       "2   2  barcelona  196.895292              False         1          90.0\n",
       "3   3  barcelona  141.271208              False         1          86.0\n",
       "4   4  barcelona  715.200037               True         2          95.0"
      ]
     },
     "execution_count": 15,
     "metadata": {},
     "output_type": "execute_result"
    }
   ],
   "source": [
    "merge_ls = []\n",
    "\n",
    "path = '../raw_data/'\n",
    "\n",
    "for city in os.listdir(path):\n",
    "    \n",
    "    #read csv + rename price\n",
    "    city_df = pd.read_csv(f\"{path + city}\", index_col=0).rename(columns={'realSum':'room_price', 'guest_satisfaction_overall':'satisfaction'})\n",
    "    \n",
    "    #get city name from path\n",
    "    city_name = city.split('_')[0]\n",
    "    \n",
    "    #add city column\n",
    "    city_df['city'] = city_name\n",
    "    \n",
    "    #creat smaller df\n",
    "    city_df_small = city_df[['city', 'room_price', 'host_is_superhost', 'bedrooms', 'satisfaction']]\n",
    "    \n",
    "    #append to ls\n",
    "    merge_ls.append(city_df_small)\n",
    "\n",
    "#concatenate all df\n",
    "merged_df = pd.concat(merge_ls)\n",
    "\n",
    "#reset index to generate 'index column'\n",
    "merged_df.reset_index(inplace=True,drop=True)\n",
    "merged_df.reset_index(inplace=True)\n",
    "merged_df = merged_df.rename(columns={'index':'id'})\n",
    "\n",
    "merged_df.to_csv('../raw_data/merged.csv')\n",
    "\n",
    "merged_df.head()"
   ]
  },
  {
   "cell_type": "code",
   "execution_count": 5,
   "metadata": {},
   "outputs": [
    {
     "data": {
      "text/plain": [
       "city                           object\n",
       "room_price                    float64\n",
       "host_is_superhost                bool\n",
       "bedrooms                        int64\n",
       "guest_satisfaction_overall    float64\n",
       "dtype: object"
      ]
     },
     "execution_count": 5,
     "metadata": {},
     "output_type": "execute_result"
    }
   ],
   "source": [
    "#different dtypes to add to db\n",
    "merged_df.dtypes"
   ]
  },
  {
   "attachments": {},
   "cell_type": "markdown",
   "metadata": {},
   "source": [
    "#### Create setup.sql file ####"
   ]
  },
  {
   "attachments": {},
   "cell_type": "markdown",
   "metadata": {},
   "source": [
    "docker build -t postgres_airbnb_image -f Dockerfile_postgres ."
   ]
  },
  {
   "attachments": {},
   "cell_type": "markdown",
   "metadata": {},
   "source": [
    "docker run --rm --name postgres_airbnb_container -v $HOME/Sync/postgres_airbnb/pgdata:/var/lib/postgresql/data -e POSTGRES_PASSWORD=1234 -e POSTGRES_DB=postgres_airbnb_db -p 6666:5432 postgres_airbnb_image"
   ]
  },
  {
   "attachments": {},
   "cell_type": "markdown",
   "metadata": {},
   "source": [
    "mv raw_data/merged.csv ~/Sync/postgres_airbnb/pgdata"
   ]
  },
  {
   "attachments": {},
   "cell_type": "markdown",
   "metadata": {},
   "source": [
    "docker exec -it postgres_airbnb_container psql -U postgres -d tokio"
   ]
  },
  {
   "cell_type": "code",
   "execution_count": null,
   "metadata": {},
   "outputs": [],
   "source": []
  },
  {
   "cell_type": "code",
   "execution_count": null,
   "metadata": {},
   "outputs": [],
   "source": []
  }
 ],
 "metadata": {
  "kernelspec": {
   "display_name": "lewagon",
   "language": "python",
   "name": "python3"
  },
  "language_info": {
   "codemirror_mode": {
    "name": "ipython",
    "version": 3
   },
   "file_extension": ".py",
   "mimetype": "text/x-python",
   "name": "python",
   "nbconvert_exporter": "python",
   "pygments_lexer": "ipython3",
   "version": "3.10.6"
  },
  "orig_nbformat": 4,
  "vscode": {
   "interpreter": {
    "hash": "6bc18b4065ea7d89dd5e5c50bf8e86ce9d41762c7a6e2479efb3c0e99816fcd1"
   }
  }
 },
 "nbformat": 4,
 "nbformat_minor": 2
}
